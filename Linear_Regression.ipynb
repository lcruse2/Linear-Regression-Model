{
  "cells": [
    {
      "cell_type": "markdown",
      "metadata": {
        "id": "view-in-github",
        "colab_type": "text"
      },
      "source": [
        "<a href=\"https://colab.research.google.com/github/lcruse2/Linear-Regression-Model/blob/main/Linear_Regression.ipynb\" target=\"_parent\"><img src=\"https://colab.research.google.com/assets/colab-badge.svg\" alt=\"Open In Colab\"/></a>"
      ]
    },
    {
      "cell_type": "markdown",
      "metadata": {
        "id": "Q7nFMW_RR5Sy"
      },
      "source": [
        "PROBLEM 1"
      ]
    },
    {
      "cell_type": "markdown",
      "metadata": {
        "id": "IGnNAh8SvQI6"
      },
      "source": [
        "Step 1: load in csv file"
      ]
    },
    {
      "cell_type": "code",
      "execution_count": 1,
      "metadata": {
        "colab": {
          "base_uri": "https://localhost:8080/"
        },
        "id": "shiNRBMrt7ch",
        "outputId": "f0c7e007-0f06-41bc-cbe0-6d4705331948"
      },
      "outputs": [
        {
          "output_type": "stream",
          "name": "stdout",
          "text": [
            "Mounted at /content/drive\n",
            "/content/drive/My Drive/Colab Notebooks\n"
          ]
        }
      ],
      "source": [
        "from google.colab import drive\n",
        "drive.mount('/content/drive', force_remount=True)\n",
        "%cd /content/drive/My Drive/Colab Notebooks"
      ]
    },
    {
      "cell_type": "code",
      "execution_count": 2,
      "metadata": {
        "colab": {
          "base_uri": "https://localhost:8080/"
        },
        "id": "gb56jPpaykTQ",
        "outputId": "c97e927b-67eb-4bdc-81c1-3cd6b67c0028"
      },
      "outputs": [
        {
          "output_type": "stream",
          "name": "stdout",
          "text": [
            "          X1        X2        X3         Y\n",
            "0   0.000000  3.440000  0.440000  4.387545\n",
            "1   0.040404  0.134949  0.888485  2.679650\n",
            "2   0.080808  0.829899  1.336970  2.968490\n",
            "3   0.121212  1.524848  1.785455  3.254065\n",
            "4   0.161616  2.219798  2.233939  3.536375\n",
            "..       ...       ...       ...       ...\n",
            "95  3.838384  1.460202  3.046061 -4.440595\n",
            "96  3.878788  2.155152  3.494545 -4.458663\n",
            "97  3.919192  2.850101  3.943030 -4.479995\n",
            "98  3.959596  3.545051  0.391515 -3.304593\n",
            "99  4.000000  0.240000  0.840000 -5.332455\n",
            "\n",
            "[100 rows x 4 columns]\n"
          ]
        }
      ],
      "source": [
        "import pandas as pd\n",
        "Input_data = pd.read_csv('D3.csv')\n",
        "print(Input_data)"
      ]
    },
    {
      "cell_type": "markdown",
      "metadata": {
        "id": "dt_kQdY_x5zO"
      },
      "source": [
        "Step 2: Create 1-step and all-step linear regression function"
      ]
    },
    {
      "cell_type": "code",
      "execution_count": 3,
      "metadata": {
        "id": "rcE8pD9CyO1Y"
      },
      "outputs": [],
      "source": [
        "import numpy as np\n",
        "def Linear_regression_step(x, y, theta_0, theta_1, alpha):\n",
        "  h=theta_0 + theta_1*x\n",
        "  m=np.size(x)\n",
        "  grad_0 = (1/m)*np.sum(h-y)\n",
        "  grad_1 = (1/m)*np.sum((h-y)*x)\n",
        "  theta_0_new = theta_0 - alpha*grad_0\n",
        "  theta_1_new = theta_1 - alpha*grad_1\n",
        "  return theta_0_new, theta_1_new, grad_0, grad_1\n",
        "def Linear_regression_all(x, y, theta_0, theta_1, alpha):\n",
        "  grad_0 = 1\n",
        "  grad_1 = 1\n",
        "  i=0\n",
        "  while (np.abs(grad_0) > 0.001) or (np.abs(grad_1) > 0.001):\n",
        "    theta_0, theta_1, grad_0, grad_1 = Linear_regression_step(x, y, theta_0, theta_1, alpha)\n",
        "    i+=1\n",
        "  print('number of iterations: ',i)\n",
        "  return theta_0 + theta_1*x, theta_0, theta_1"
      ]
    },
    {
      "cell_type": "markdown",
      "metadata": {
        "id": "86k7hQqEC9J6"
      },
      "source": [
        "Step 3: Implement linear regression functions for x1"
      ]
    },
    {
      "cell_type": "code",
      "execution_count": 4,
      "metadata": {
        "id": "lBIe8jo7x44c",
        "colab": {
          "base_uri": "https://localhost:8080/"
        },
        "outputId": "a8a65f37-2cfa-4127-bc42-e3f68cf0e831"
      },
      "outputs": [
        {
          "output_type": "stream",
          "name": "stdout",
          "text": [
            "number of iterations:  321\n",
            "h = 5.923560552750225 + -2.036628659707613 * x\n",
            "Cost:  0.9849955394102979\n"
          ]
        }
      ],
      "source": [
        "x1 = Input_data['X1']\n",
        "y = Input_data['Y']\n",
        "m=np.size(x1)\n",
        "h1, theta_01, theta_11 = Linear_regression_all(x1, y, 0, 0, 0.1)\n",
        "print('h =',theta_01,'+',theta_11,'* x')\n",
        "J1= (1/(2*m))*np.sum((h1-y)**2)\n",
        "print('Cost: ', J1)"
      ]
    },
    {
      "cell_type": "markdown",
      "metadata": {
        "id": "CKI_kfZmNu1j"
      },
      "source": [
        "Step 4: Implement linear regression functions for x2\n",
        "\n"
      ]
    },
    {
      "cell_type": "code",
      "execution_count": 5,
      "metadata": {
        "id": "_MprC9X5N2Bq",
        "colab": {
          "base_uri": "https://localhost:8080/"
        },
        "outputId": "50d1c88a-79d2-44d8-ff78-9e55893a857c"
      },
      "outputs": [
        {
          "output_type": "stream",
          "name": "stdout",
          "text": [
            "number of iterations:  207\n",
            "h = 0.7316998562768613 + 0.5593047862284521 * x\n",
            "Cost:  3.5993684439314677\n"
          ]
        }
      ],
      "source": [
        "x2 = Input_data['X2']\n",
        "y = Input_data['Y']\n",
        "h2, theta_02, theta_12 = Linear_regression_all(x2, y, 0, 0, 0.1)\n",
        "print('h =',theta_02,'+',theta_12,'* x')\n",
        "J2= (1/(2*m))*np.sum((h2-y)**2)\n",
        "print('Cost: ',J2)"
      ]
    },
    {
      "cell_type": "markdown",
      "metadata": {
        "id": "aFeIB8oJOujD"
      },
      "source": [
        "Step 5: Implement linear regression functions for x3"
      ]
    },
    {
      "cell_type": "code",
      "execution_count": 6,
      "metadata": {
        "id": "4rIm8pwfOpD8",
        "colab": {
          "base_uri": "https://localhost:8080/"
        },
        "outputId": "6cd4261e-da4b-4824-e76a-4c7c7f8b95cf"
      },
      "outputs": [
        {
          "output_type": "stream",
          "name": "stdout",
          "text": [
            "number of iterations:  283\n",
            "h = 2.8671541513147205 + -0.518794933267626 * x\n",
            "Cost:  3.6294534925967485\n"
          ]
        }
      ],
      "source": [
        "x3 = Input_data['X3']\n",
        "y = Input_data['Y']\n",
        "h3, theta_03, theta_13 = Linear_regression_all(x3, y, 0, 0, 0.1)\n",
        "print('h =',theta_03,'+',theta_13,'* x')\n",
        "J3= (1/(2*m))*np.sum((h3-y)**2)\n",
        "print('Cost: ',J3)"
      ]
    },
    {
      "cell_type": "markdown",
      "metadata": {
        "id": "ZQohToSQRw1E"
      },
      "source": [
        "Thus, x1 reduced the cost the most"
      ]
    },
    {
      "cell_type": "markdown",
      "metadata": {
        "id": "UHgZwbO2R2nq"
      },
      "source": [
        "PROBLEM 2"
      ]
    },
    {
      "cell_type": "markdown",
      "metadata": {
        "id": "KTwooUhZSAw6"
      },
      "source": [
        "Step 1: rewrite linear regression functions to work with 3 variables"
      ]
    },
    {
      "cell_type": "code",
      "execution_count": 7,
      "metadata": {
        "id": "j0vG5rR3R1kT"
      },
      "outputs": [],
      "source": [
        "import matplotlib.pyplot as plt\n",
        "def Linear_regression_step_3input(dataset, theta_0, theta_1, theta_2, theta_3, alpha):\n",
        "  x1 = dataset['X1']\n",
        "  x2 = dataset['X2']\n",
        "  x3 = dataset['X3']\n",
        "  y = dataset['Y']\n",
        "  m=np.size(x1)\n",
        "  h=theta_0 + theta_1*x1 + theta_2*x2 + theta_3*x3\n",
        "  grad_0 = (1/m)*np.sum(h-y)\n",
        "  grad_1 = (1/m)*np.sum((h-y)*x1)\n",
        "  grad_2 = (1/m)*np.sum((h-y)*x2)\n",
        "  grad_3 = (1/m)*np.sum((h-y)*x3)\n",
        "  theta_0_new = theta_0 - alpha*grad_0\n",
        "  theta_1_new = theta_1 - alpha*grad_1\n",
        "  theta_2_new = theta_2 - alpha*grad_2\n",
        "  theta_3_new = theta_3 - alpha*grad_3\n",
        "  return theta_0_new, theta_1_new, theta_2_new, theta_3_new, grad_0, grad_1, grad_2, grad_3\n",
        "def Linear_regression_all_3input(dataset, theta_0, theta_1, theta_2, theta_3, alpha):\n",
        "  grad_0 = 1\n",
        "  grad_1 = 1\n",
        "  grad_2 = 1\n",
        "  grad_3 = 1\n",
        "  i=0\n",
        "  J=[]\n",
        "  h = theta_0 + theta_1*x1 + theta_2*x2 + theta_3*x3\n",
        "  J.append((1/(2*m))*np.sum((h-y)**2))\n",
        "  while (np.abs(grad_0) > 0.01) or (np.abs(grad_1) > 0.001) or (np.abs(grad_2) > 0.001) or (np.abs(grad_3) > 0.001):\n",
        "    theta_0, theta_1, theta_2, theta_3, grad_0, grad_1, grad_2, grad_3 = Linear_regression_step_3input(dataset, theta_0, theta_1, theta_2, theta_3, alpha)\n",
        "    i+=1\n",
        "    h = theta_0 + theta_1*x1 + theta_2*x2 + theta_3*x3\n",
        "    J.append((1/(2*m))*np.sum((h-y)**2))\n",
        "  print('number of iterations: ',i)\n",
        "  iter=np.arange(i+1)\n",
        "  plt.plot(iter, J)\n",
        "  return h, theta_0, theta_1, theta_2, theta_3"
      ]
    },
    {
      "cell_type": "markdown",
      "metadata": {
        "id": "enRpGbKy1suf"
      },
      "source": [
        "Step 2: Implement regression functions for x1, x2, and x3 simultaneously"
      ]
    },
    {
      "cell_type": "code",
      "execution_count": 8,
      "metadata": {
        "id": "zxcIBubp18Gg",
        "colab": {
          "base_uri": "https://localhost:8080/",
          "height": 485
        },
        "outputId": "3bc0865f-2cb2-45b3-da7c-660f5f0735a6"
      },
      "outputs": [
        {
          "output_type": "stream",
          "name": "stdout",
          "text": [
            "number of iterations:  446\n",
            "h = 5.2546324916351015 + -1.995309009863957 * x + 0.5424010735390882 * x + -0.2568752912867028 * x\n",
            "Cost:  0.7386530436318538\n"
          ]
        },
        {
          "output_type": "display_data",
          "data": {
            "text/plain": [
              "<Figure size 640x480 with 1 Axes>"
            ],
            "image/png": "[encoded data removed]"
          },
          "metadata": {}
        }
      ],
      "source": [
        "h, theta_0, theta_1, theta_2, theta_3 = Linear_regression_all_3input(Input_data, 0, 0, 0, 0, 0.1)\n",
        "print('h =',theta_0,'+',theta_1,'* x','+',theta_2,'* x','+',theta_3,'* x')\n",
        "J= (1/(2*m))*np.sum((h-y)**2)\n",
        "print('Cost: ',J)"
      ]
    }
  ],
  "metadata": {
    "colab": {
      "provenance": [],
      "authorship_tag": "ABX9TyMOcW6GIQnoODrAMKF17PRr",
      "include_colab_link": true
    },
    "kernelspec": {
      "display_name": "Python 3",
      "name": "python3"
    },
    "language_info": {
      "name": "python"
    }
  },
  "nbformat": 4,
  "nbformat_minor": 0
}